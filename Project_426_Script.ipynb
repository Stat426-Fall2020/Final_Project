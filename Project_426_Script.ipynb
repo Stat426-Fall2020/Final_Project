{
 "cells": [
  {
   "cell_type": "markdown",
   "metadata": {},
   "source": [
    "# Examining Effects of Home Field Advantage in European Soccer"
   ]
  },
  {
   "cell_type": "markdown",
   "metadata": {},
   "source": [
    "## Introduction"
   ]
  },
  {
   "cell_type": "markdown",
   "metadata": {},
   "source": [
    "### Research Question\n",
    "For most of my life I have enjoyed both playing and watching soccer. Whenever an upset occurs, a highly ranked team losing to a much lower ranked team, there are many factors that are investigated to see why the match had that outcome. One of these factors is home field advantage. Teams often perform better when playing on a field they are comfortable surrounded by supportive fans.\n",
    "\n",
    "In order to understand this phenonemnon of why playing seems to improve the likelihood of a win, this report will seek to answer the following questions:  \n",
    " - What factors of the match most positively affect win likelihood when playing at home?\n",
    " - What factors of the match most negatively affect win likelihood when playing at home?"
   ]
  },
  {
   "cell_type": "markdown",
   "metadata": {},
   "source": [
    "## Data\n",
    "\n",
    "The data contains information for the 2018-2019 season from five different professional European leagues totaling 1,862 matches worth of information with 62 different aspects of the matches having been recorded. The data can be found on datahub at the following link: https://datahub.io/collections/football."
   ]
  },
  {
   "cell_type": "markdown",
   "metadata": {},
   "source": [
    "### Preparing the Data\n",
    "All five datasets were merged in order to obtain a large enough sample. Descriptions of the most relevant features for this merged dataset can be found below under \"Variable Descriptions\". Overall, factors of goals scored, shots on target, fouls committed, corner kicks taken, and yellow and red cards received for both the home and away teams were included for predicting whether or not a team would win at home.\n",
    "\n",
    "Missing values were first replaced with na and later, during model preparation, were imputed with the mean for that variable. Several features also needed to be created for proper model performance. These included Home_Half_Win and Home_Win which represent a binary outcome for whether or not the home team was winning at half and/or won the match (1 being a win, 0 being a loss or draw)."
   ]
  },
  {
   "cell_type": "code",
   "execution_count": 338,
   "metadata": {},
   "outputs": [],
   "source": [
    "import numpy as np\n",
    "import pandas as pd\n",
    "import matplotlib.pyplot as plt\n",
    "import seaborn as sns"
   ]
  },
  {
   "cell_type": "code",
   "execution_count": 4,
   "metadata": {},
   "outputs": [],
   "source": [
    "#Read in all data\n",
    "engl = pd.read_csv(\"Engl_season-1819.csv\")\n",
    "germ = pd.read_csv(\"Germ_season-1819.csv\")\n",
    "fren = pd.read_csv(\"Fren_season-1819.csv\")\n",
    "ital = pd.read_csv(\"Ital_season-1819.csv\")\n",
    "span = pd.read_csv(\"Span_season-1819.csv\")"
   ]
  },
  {
   "cell_type": "code",
   "execution_count": 4,
   "metadata": {},
   "outputs": [],
   "source": [
    "### Variable Descrpitions\n",
    "\n",
    "#Div = League Division\n",
    "#Date = Match Date (dd/mm/yy)\n",
    "#HomeTeam = Home Team\n",
    "#AwayTeam = Away Team\n",
    "#FTHG = Full Time Home Team Goals\n",
    "#FTAG = Full Time Away Team Goals\n",
    "#FTR = Full Time Result (H=Home Win, D=Draw, A=Away Win)\n",
    "#HTHG = Half Time Home Team Goals\n",
    "#HTAG = Half Time Away Team Goals\n",
    "#HTR = Half Time Result (H=Home Win, D=Draw, A=Away Win)\n",
    "#Referee = Match Referee\n",
    "#HS = Home Team Shots\n",
    "#AS = Away Team Shots\n",
    "#HST = Home Team Shots on Target\n",
    "#AST = Away Team Shots on Target\n",
    "#HC = Home Team Corners\n",
    "#AC = Away Team Corners\n",
    "#HF = Home Team Fouls Committed\n",
    "#AF = Away Team Fouls Committed\n",
    "#HO = Home Team Offsides\n",
    "#AO = Away Team Offsides\n",
    "#HY = Home Team Yellow Cards\n",
    "#AY = Away Team Yellow Cards\n",
    "#HR = Home Team Red Cards\n",
    "#AR = Away Team Red Cards"
   ]
  },
  {
   "cell_type": "code",
   "execution_count": 197,
   "metadata": {},
   "outputs": [],
   "source": [
    "### Data Cleaning / Wrangling\n",
    "#Combine all dataframes\n",
    "overall = pd.concat([engl,germ,fren,ital,span])"
   ]
  },
  {
   "cell_type": "code",
   "execution_count": 198,
   "metadata": {},
   "outputs": [],
   "source": [
    "#Impute missing values\n",
    "overall.replace('',np.nan,inplace = True)"
   ]
  },
  {
   "cell_type": "code",
   "execution_count": 199,
   "metadata": {},
   "outputs": [],
   "source": [
    "#Take a subset of the columns (filtering out betting data)\n",
    "over_red = overall.iloc[:,0:23]"
   ]
  },
  {
   "cell_type": "code",
   "execution_count": 200,
   "metadata": {},
   "outputs": [],
   "source": [
    "### Create relevant features\n",
    "#Create columns for if it was a win at halftime\n",
    "boole = over_red.HTR == \"H\"\n",
    "over_red[\"Home_Half_Win\"] = boole.astype(int)\n",
    "\n",
    "boole = over_red.FTR == \"H\"\n",
    "over_red[\"Home_Win\"] = boole.astype(int)"
   ]
  },
  {
   "cell_type": "markdown",
   "metadata": {},
   "source": [
    "### Exploring the Data\n",
    "Based on summary statistics, it appears not only that the home team won more often than the away team (60% of the time), but that the home team also seems to perform better on average in nearly every metric, getting more shots with greater accuracy as well as committing fewer fouls leading to fewer bookings (yellow and red cards). This leads us to believe initially that most factors improve while playing at home. The question we must answer however is which of these factors are most important in helping a team win at home.\n",
    "\n",
    "The pattern of performing better at home also seems to be true accross each division in the dataset as seen below, making it more appropriate to collapse the dataset accross the division factor. It does appear that the German and Italian leagues slightly outperform the other divisions in some aspects of the match, but these differences don't seem to be significant and therefore will not be considered in modeling."
   ]
  },
  {
   "cell_type": "code",
   "execution_count": 314,
   "metadata": {},
   "outputs": [],
   "source": [
    "### Exploratory Data Analysis\n",
    "soccer_df = over_red[['FTHG','FTAG','HS','AS','HST','AST','HF','AF','HC','AC','HY','AY','HR','AR','Home_Win']]"
   ]
  },
  {
   "cell_type": "code",
   "execution_count": 315,
   "metadata": {},
   "outputs": [
    {
     "name": "stdout",
     "output_type": "stream",
     "text": [
      "% Wins by Home Team:  60.0\n"
     ]
    }
   ],
   "source": [
    "no_draws = over_red[over_red['FTR']!='D']\n",
    "print(\"% Wins by Home Team: \", round(no_draws.Home_Win.mean()*100,0))"
   ]
  },
  {
   "cell_type": "code",
   "execution_count": 316,
   "metadata": {},
   "outputs": [
    {
     "name": "stdout",
     "output_type": "stream",
     "text": [
      "Mean Differences (Home - Away) Per Game:  \n",
      " Goals Scored:  0.339 \n",
      " Shots on Target:  0.964 \n",
      " Corner Kicks Taken:  1.066 \n",
      " Fouls Committed:  -0.274 \n",
      " Yellow Cards:  -0.273 \n",
      " Red Cards:  -0.032\n"
     ]
    }
   ],
   "source": [
    "print(\"Mean Differences (Home - Away) Per Game: \", \"\\n\",\n",
    "      \"Goals Scored: \", round(soccer_df.FTHG.mean() - soccer_df.FTAG.mean(),3), \"\\n\",\n",
    "      \"Shots on Target: \", round(soccer_df.HST.mean() - soccer_df.AST.mean(),3), \"\\n\",\n",
    "      \"Corner Kicks Taken: \", round(soccer_df.HC.mean() - soccer_df.AC.mean(),3), \"\\n\",\n",
    "      \"Fouls Committed: \", round(soccer_df.HF.mean() - soccer_df.AF.mean(),3), \"\\n\",\n",
    "      \"Yellow Cards: \", round(soccer_df.HY.mean() - soccer_df.AY.mean(),3), \"\\n\",\n",
    "      \"Red Cards: \", round(soccer_df.HR.mean() - soccer_df.AR.mean(),3))"
   ]
  },
  {
   "cell_type": "code",
   "execution_count": 317,
   "metadata": {},
   "outputs": [
    {
     "name": "stdout",
     "output_type": "stream",
     "text": [
      "Percent Differences (Home vs. Away) Per Game:  \n",
      " Goals Scored:  28 % Increase \n",
      " Shots on Target:  24 % Increase \n",
      " Corner Kicks Taken:  24 % Increase \n",
      " Fouls Committed:  2 % Decrease \n",
      " Yellow Cards:  13 % Decrease \n",
      " Red Cards:  28 % Decrease\n"
     ]
    }
   ],
   "source": [
    "print(\"Percent Differences (Home vs. Away) Per Game: \", \"\\n\",\n",
    "      \"Goals Scored: \", round( (((soccer_df.FTHG.mean() - soccer_df.FTAG.mean())) / soccer_df.FTAG.mean()) *100), \"% Increase\", \"\\n\",\n",
    "      \"Shots on Target: \", round( (((soccer_df.HST.mean() - soccer_df.AST.mean())) / soccer_df.AST.mean()) *100), \"% Increase\", \"\\n\",\n",
    "      \"Corner Kicks Taken: \", round( (((soccer_df.HC.mean() - soccer_df.AC.mean())) / soccer_df.AC.mean()) *100), \"% Increase\", \"\\n\",\n",
    "      \"Fouls Committed: \", abs(round( (((soccer_df.HF.mean() - soccer_df.AF.mean())) / soccer_df.AF.mean()) *100)), \"% Decrease\", \"\\n\",\n",
    "      \"Yellow Cards: \", abs(round( (((soccer_df.HY.mean() - soccer_df.AY.mean())) / soccer_df.AY.mean()) *100)), \"% Decrease\", \"\\n\",\n",
    "      \"Red Cards: \", abs(round( (((soccer_df.HR.mean() - soccer_df.AR.mean())) / soccer_df.AR.mean()) *100)), \"% Decrease\")"
   ]
  },
  {
   "cell_type": "code",
   "execution_count": 318,
   "metadata": {},
   "outputs": [
    {
     "name": "stdout",
     "output_type": "stream",
     "text": [
      " Avg Goals Scored by Home Team: 1.54 \n",
      " Stan. Deviation of Home Goals: 1.28 \n",
      " Avg Goals Scored by Away Team: 1.2 \n",
      " Stan. Deviation of Away Goals: 1.16\n"
     ]
    }
   ],
   "source": [
    "print(\" Avg Goals Scored by Home Team:\", round(overall['FTHG'].mean(),2), \"\\n\",\n",
    "     \"Stan. Deviation of Home Goals:\", round(overall['FTHG'].std(),2), \"\\n\",\n",
    "     \"Avg Goals Scored by Away Team:\", round(overall['FTAG'].mean(),2), \"\\n\",\n",
    "     \"Stan. Deviation of Away Goals:\", round(overall['FTAG'].std(),2))"
   ]
  },
  {
   "cell_type": "code",
   "execution_count": 319,
   "metadata": {},
   "outputs": [
    {
     "data": {
      "text/plain": [
       "<matplotlib.axes._subplots.AxesSubplot at 0x2aae21abf70>"
      ]
     },
     "execution_count": 319,
     "metadata": {},
     "output_type": "execute_result"
    },
    {
     "data": {
      "image/png": "[encoded data removed]",
      "text/plain": [
       "<Figure size 432x288 with 1 Axes>"
      ]
     },
     "metadata": {
      "needs_background": "light"
     },
     "output_type": "display_data"
    }
   ],
   "source": [
    "sns.barplot(data=over_red,x=\"Div\",y=\"Home_Win\")"
   ]
  },
  {
   "cell_type": "code",
   "execution_count": 320,
   "metadata": {},
   "outputs": [
    {
     "data": {
      "text/plain": [
       "<matplotlib.axes._subplots.AxesSubplot at 0x2aae2208ac0>"
      ]
     },
     "execution_count": 320,
     "metadata": {},
     "output_type": "execute_result"
    },
    {
     "data": {
      "image/png": "[encoded data removed]",
      "text/plain": [
       "<Figure size 432x288 with 1 Axes>"
      ]
     },
     "metadata": {
      "needs_background": "light"
     },
     "output_type": "display_data"
    }
   ],
   "source": [
    "# Draw a nested barplot by species and sex\n",
    "sns.boxplot(data=over_red,x='Div',y='HST')"
   ]
  },
  {
   "cell_type": "code",
   "execution_count": 321,
   "metadata": {},
   "outputs": [
    {
     "data": {
      "text/plain": [
       "<matplotlib.axes._subplots.AxesSubplot at 0x2aae22408e0>"
      ]
     },
     "execution_count": 321,
     "metadata": {},
     "output_type": "execute_result"
    },
    {
     "data": {
      "image/png": "[encoded data removed]",
      "text/plain": [
       "<Figure size 432x288 with 1 Axes>"
      ]
     },
     "metadata": {
      "needs_background": "light"
     },
     "output_type": "display_data"
    }
   ],
   "source": [
    "sns.boxplot(data=over_red,x='Div',y='AST')"
   ]
  },
  {
   "cell_type": "markdown",
   "metadata": {},
   "source": [
    "## Methods & Results"
   ]
  },
  {
   "cell_type": "markdown",
   "metadata": {},
   "source": [
    "### Modeling Home Field Advantage\n",
    "\n",
    "In order to answer our questions of interest, several machine learning models were considered for predicting home wins, and the data was divided using a 30-70 split into a training and test dataset with missing values being imputed with the mean for that variable.\n",
    "\n",
    "Because our model will contain 14 explanatory variables, regression models like ridge, lasso, and k nearest neighbors were used to help determine which factors of the model were of most importance while penalizing less signficant factors in the model. For comparison, decision tree, multinomial naive bayes, and support vector regression models were also considered. In order to assess model performance, the mean squared error will be assessed for both the training and testing datasets to uncover any under or over fitting of the data. This was coupled with the f1 and accuracy score for each model."
   ]
  },
  {
   "cell_type": "code",
   "execution_count": 322,
   "metadata": {},
   "outputs": [],
   "source": [
    "from sklearn.preprocessing import LabelEncoder, OneHotEncoder\n",
    "from sklearn.impute import SimpleImputer\n",
    "from sklearn.model_selection import train_test_split\n",
    "from sklearn.naive_bayes import MultinomialNB\n",
    "from sklearn.metrics import f1_score, accuracy_score\n",
    "from sklearn.linear_model import LinearRegression\n",
    "from sklearn.linear_model import Lasso\n",
    "from sklearn.linear_model import Ridge, RidgeCV\n",
    "from sklearn.neighbors import KNeighborsRegressor\n",
    "from sklearn.tree import DecisionTreeRegressor\n",
    "from sklearn.ensemble import RandomForestClassifier\n",
    "from sklearn.metrics import mean_squared_error, r2_score\n",
    "from sklearn.tree import DecisionTreeRegressor\n",
    "from sklearn.svm import SVR\n",
    "from sklearn.model_selection import GridSearchCV\n",
    "from sklearn.model_selection import cross_val_score"
   ]
  },
  {
   "cell_type": "code",
   "execution_count": 341,
   "metadata": {},
   "outputs": [],
   "source": [
    "#Split the data into explanatory and response variables and train and test data\n",
    "y = soccer_df['Home_Win']\n",
    "X = soccer_df[['FTHG','FTAG','HS','AS','HST','AST','HF','AF','HC','AC','HY','AY','HR','AR']]\n",
    "\n",
    "from sklearn.impute import SimpleImputer\n",
    "Xtrain, Xtest, ytrain, ytest = train_test_split(X, y, test_size=.30, random_state=100)\n",
    "\n",
    "#Impute missing values with the mean\n",
    "Xtrain = Xtrain.fillna(Xtrain.mean())\n",
    "Xtest = Xtest.fillna(Xtest.mean())"
   ]
  },
  {
   "cell_type": "markdown",
   "metadata": {},
   "source": [
    "### Fitting Initial Models"
   ]
  },
  {
   "cell_type": "code",
   "execution_count": 332,
   "metadata": {},
   "outputs": [
    {
     "name": "stdout",
     "output_type": "stream",
     "text": [
      "0.3041629586642579 0.3041629586642579\n",
      "0.9817518248175182\n",
      "0.9880003726973718\n"
     ]
    }
   ],
   "source": [
    "lm = LinearRegression()\n",
    "lm.fit(Xtrain,ytrain)\n",
    "yhat_test = lm.predict(Xtest)\n",
    "yhat_train = lm.predict(Xtrain)\n",
    "\n",
    "mse_lm_tt = mean_squared_error(ytest, yhat_test)\n",
    "print(np.sqrt(mean_squared_error(ytest, yhat_test)),np.sqrt(mse_lm_tt))\n",
    "\n",
    "print(accuracy_score(ytest,yhat_test.round()))\n",
    "print(f1_score(ytest,yhat_test.round(),average='weighted'))"
   ]
  },
  {
   "cell_type": "code",
   "execution_count": 326,
   "metadata": {},
   "outputs": [
    {
     "name": "stdout",
     "output_type": "stream",
     "text": [
      "0.4968158880128808 0.4982361444356948\n",
      "0.5437956204379562\n",
      "0.3830995151075909\n"
     ]
    }
   ],
   "source": [
    "lasso = Lasso(alpha=0.5)\n",
    "lasso.fit(Xtrain,ytrain)\n",
    "yhat_lasso_train = lasso.predict(Xtrain)\n",
    "yhat_lasso = lasso.predict(Xtest)\n",
    "\n",
    "mse_lass_train = mean_squared_error(ytrain,yhat_lasso_train)\n",
    "mse_lass = mean_squared_error(ytest, yhat_lasso)\n",
    "print(np.sqrt(mse_lass_train),np.sqrt(mse_lass))\n",
    "\n",
    "print(accuracy_score(ytest,yhat_lasso.round()))\n",
    "print(f1_score(ytest,yhat_lasso.round(),average='weighted'))"
   ]
  },
  {
   "cell_type": "code",
   "execution_count": 327,
   "metadata": {},
   "outputs": [
    {
     "name": "stdout",
     "output_type": "stream",
     "text": [
      "0.42732080214141693 0.4207871056399023\n",
      "0.7317518248175182\n",
      "0.7302682346959217\n"
     ]
    }
   ],
   "source": [
    "ridge = Ridge()\n",
    "ridge.fit(Xtrain,ytrain)\n",
    "yhat_ridge_train = ridge.predict(Xtrain)\n",
    "yhat_ridge = ridge.predict(Xtest)\n",
    "\n",
    "mse_ridge_train = mean_squared_error(ytrain,yhat_ridge_train)\n",
    "mse_ridge = mean_squared_error(ytest, yhat_ridge)\n",
    "print(np.sqrt(mse_ridge_train),np.sqrt(mse_ridge))\n",
    "\n",
    "print(accuracy_score(ytest,yhat_ridge.round()))\n",
    "print(f1_score(ytest,yhat_ridge.round(),average='weighted'))"
   ]
  },
  {
   "cell_type": "code",
   "execution_count": 328,
   "metadata": {},
   "outputs": [
    {
     "name": "stdout",
     "output_type": "stream",
     "text": [
      "0.42364577579504176 0.4553213351559261\n",
      "0.6843065693430657\n",
      "0.6781331687504717\n"
     ]
    }
   ],
   "source": [
    "knn = KNeighborsRegressor(n_neighbors=10)\n",
    "knn.fit(Xtrain,ytrain)\n",
    "yhat_knn_train = knn.predict(Xtrain)\n",
    "yhat_knn = knn.predict(Xtest)\n",
    "\n",
    "mse_knn_train = mean_squared_error(ytrain,yhat_knn_train)\n",
    "mse_knn = mean_squared_error(ytest, yhat_knn)\n",
    "print(np.sqrt(mse_knn_train),np.sqrt(mse_knn))\n",
    "\n",
    "print(accuracy_score(ytest,yhat_knn.round()))\n",
    "print(f1_score(ytest,yhat_knn.round(),average='weighted'))"
   ]
  },
  {
   "cell_type": "code",
   "execution_count": 329,
   "metadata": {},
   "outputs": [
    {
     "name": "stdout",
     "output_type": "stream",
     "text": [
      "0.2419545260930704 0.565108958193888\n",
      "0.614963503649635\n",
      "0.6141216258769174\n"
     ]
    }
   ],
   "source": [
    "dt = DecisionTreeRegressor(min_samples_leaf=3)\n",
    "dt.fit(Xtrain,ytrain)\n",
    "yhat_dt_train = dt.predict(Xtrain)\n",
    "yhat_dt = dt.predict(Xtest)\n",
    "\n",
    "mse_dt_train = mean_squared_error(ytrain,yhat_dt_train)\n",
    "mse_dt = mean_squared_error(ytest, yhat_dt)\n",
    "print(np.sqrt(mse_dt_train),np.sqrt(mse_dt))\n",
    "\n",
    "print(accuracy_score(ytest,yhat_dt.round()))\n",
    "print(f1_score(ytest,yhat_dt.round(),average='weighted'))"
   ]
  },
  {
   "cell_type": "code",
   "execution_count": 330,
   "metadata": {},
   "outputs": [
    {
     "name": "stdout",
     "output_type": "stream",
     "text": [
      "0.5800545007041731 0.5778768085322477\n",
      "0.666058394160584\n",
      "0.6660034664200571\n"
     ]
    }
   ],
   "source": [
    "nb = MultinomialNB()\n",
    "nb.fit(Xtrain, ytrain)\n",
    "yhat_nb_train = nb.predict(Xtrain)\n",
    "yhat_nb = nb.predict(Xtest)\n",
    "\n",
    "mse_nb_train = mean_squared_error(ytrain,yhat_nb_train)\n",
    "mse_nb = mean_squared_error(ytest,yhat_nb)\n",
    "print(np.sqrt(mse_nb_train),np.sqrt(mse_nb))\n",
    "\n",
    "print(accuracy_score(ytest,yhat_nb.round()))\n",
    "print(f1_score(ytest,yhat_nb.round(),average='weighted'))"
   ]
  },
  {
   "cell_type": "code",
   "execution_count": 172,
   "metadata": {},
   "outputs": [
    {
     "name": "stdout",
     "output_type": "stream",
     "text": [
      "0.2832441262466822 0.30408745703625445\n",
      "0.9105839416058394\n",
      "0.914425392401046\n"
     ]
    }
   ],
   "source": [
    "svr = SVR()\n",
    "svr.fit(Xtrain, ytrain)\n",
    "yhat_svr_train = svr.predict(Xtrain)\n",
    "yhat_svr = svr.predict(Xtest)\n",
    "\n",
    "mse_svr_train = mean_squared_error(ytrain,yhat_svr_train)\n",
    "mse_svr = mean_squared_error(ytest, yhat_svr)\n",
    "print(np.sqrt(mse_svr_train),np.sqrt(mse_svr))\n",
    "\n",
    "print(accuracy_score(ytest,yhat_svr.round()))\n",
    "print(f1_score(ytest,yhat_svr.round(),average='weighted'))"
   ]
  },
  {
   "cell_type": "markdown",
   "metadata": {},
   "source": [
    "### Model Improvement & Optimization\n",
    "\n",
    "Based on the mean squared error, accuracy score, and f1 score for each model, several models seemed to have performed well while others appear to have overfit the data. Because the mse both the support vector and decision tree regression models was quite a bit higher for the testing than the training data, it appears these models overfit the data and will no longer be considered.\n",
    "\n",
    "The Lasso, Ridge, and K Nearest Neighbors models all seemed to perform the best without overfitting, based on their f1 and accuracy scores as well as the mean squared errors. Using grid searching techniques, optimization was performed for each of the model's hyperparameters. For lasso, 100 different alpha tuning parameters were assessed and the optimal parameter can be seen below. A similar process was done for ridge, with 10 different tuning parameters. Lastly, k nearest neighbor tuning parameters with a range of 30 different groupings were performed. Each model was then fit once again using these optimized tuning parameters."
   ]
  },
  {
   "cell_type": "code",
   "execution_count": 342,
   "metadata": {},
   "outputs": [
    {
     "name": "stdout",
     "output_type": "stream",
     "text": [
      "0.30418486744295803\n",
      "0.9817518248175182\n",
      "0.9880003726973718\n"
     ]
    }
   ],
   "source": [
    "#Fit new Lasso model with optimized hyperparameter\n",
    "from sklearn.linear_model import LassoCV\n",
    "lscv = LassoCV(n_alphas=100, normalize=True)\n",
    "lscv.fit(Xtrain, ytrain)\n",
    "\n",
    "#lscv.alpha_\n",
    "\n",
    "lasso = Lasso(alpha=lscv.alpha_)\n",
    "lasso.fit(Xtrain,ytrain)\n",
    "yhat_lasso = lasso.predict(Xtest)\n",
    "\n",
    "mse_lass = mean_squared_error(ytest, yhat_lasso)\n",
    "print(np.sqrt(mse_lass))\n",
    "print(accuracy_score(ytest,yhat_lasso.round()))\n",
    "print(f1_score(ytest,yhat_lasso.round(),average='weighted'))"
   ]
  },
  {
   "cell_type": "code",
   "execution_count": 193,
   "metadata": {},
   "outputs": [
    {
     "name": "stdout",
     "output_type": "stream",
     "text": [
      "0.4207834229193695\n",
      "0.7317518248175182\n",
      "0.7302682346959217\n"
     ]
    }
   ],
   "source": [
    "#Fit new Ridge model with optimized hyperparameter\n",
    "from sklearn.linear_model import RidgeCV\n",
    "alphas = [0.000001, 0.00001, 0.0001, 0.001, 0.01, 0.1,0.5, 1,10,100]\n",
    "ricv = RidgeCV(alphas=alphas, normalize=True)\n",
    "ricv.fit(Xtrain, ytrain)\n",
    "\n",
    "ridge = Ridge(ricv.alpha_)\n",
    "ridge.fit(Xtrain,ytrain)\n",
    "yhat_ridge_train = ridge.predict(Xtrain)\n",
    "yhat_ridge = ridge.predict(Xtest)\n",
    "\n",
    "mse_ridge_train = mean_squared_error(ytrain,yhat_ridge_train)\n",
    "mse_ridge = mean_squared_error(ytest, yhat_ridge)\n",
    "print(np.sqrt(mse_ridge))\n",
    "\n",
    "print(accuracy_score(ytest,yhat_ridge.round()))\n",
    "print(f1_score(ytest,yhat_ridge.round(),average='weighted'))"
   ]
  },
  {
   "cell_type": "code",
   "execution_count": 194,
   "metadata": {},
   "outputs": [
    {
     "data": {
      "text/plain": [
       "{'n_neighbors': 21}"
      ]
     },
     "execution_count": 194,
     "metadata": {},
     "output_type": "execute_result"
    }
   ],
   "source": [
    "#Fit new Knn model with optimized hyperparameter\n",
    "parameters = {'n_neighbors':list(range(1,30))}\n",
    "knn = KNeighborsRegressor()\n",
    "clf = GridSearchCV(knn, parameters, cv=10, scoring='neg_mean_squared_error')\n",
    "clf.fit(Xtrain, ytrain)\n",
    "\n",
    "clf.best_params_"
   ]
  },
  {
   "cell_type": "code",
   "execution_count": 195,
   "metadata": {},
   "outputs": [
    {
     "name": "stdout",
     "output_type": "stream",
     "text": [
      "0.45498036633875183\n",
      "0.6879562043795621\n",
      "0.6862303954626027\n"
     ]
    }
   ],
   "source": [
    "knn = KNeighborsRegressor(n_neighbors=21)\n",
    "knn.fit(Xtrain,ytrain)\n",
    "yhat_knn = knn.predict(Xtest)\n",
    "\n",
    "mse_knn = mean_squared_error(ytest, yhat_knn)\n",
    "print(np.sqrt(mse_knn))\n",
    "print(accuracy_score(ytest,yhat_knn.round()))\n",
    "print(f1_score(ytest,yhat_knn.round(),average='weighted'))"
   ]
  },
  {
   "cell_type": "markdown",
   "metadata": {},
   "source": [
    "## Model Selection & Results\n",
    "\n",
    "With optimized hyperparameters, both the Lasso and Ridge regression models performed the best in predicting home wins based on the explanatory variables, with f1 and accuracy scores of about 0.98. However, the lasso regression model had a lower mean squared error than the ridge model and will thus be considered in examining feature extraction and interpretation/\n",
    "\n",
    "Based on an evaluation of feature importance from this optimized model, it appears that the most important factors in predicting home wins were goals scored, shots on target, and number of red cards each home and away team had. However, because goals scored are inseperable from the result of the game, a model was also considered that elminated this factor and is expounded on below. After accounting for this factor, the next most important factor in improving a win at home for the home team is shots on target followed by red cards received."
   ]
  },
  {
   "cell_type": "code",
   "execution_count": 334,
   "metadata": {},
   "outputs": [
    {
     "name": "stdout",
     "output_type": "stream",
     "text": [
      "Feature: 0, Score: 0.23030\n",
      "Feature: 1, Score: -0.18864\n",
      "Feature: 2, Score: -0.00685\n",
      "Feature: 3, Score: 0.00236\n",
      "Feature: 4, Score: 0.00791\n",
      "Feature: 5, Score: -0.00571\n",
      "Feature: 6, Score: -0.00498\n",
      "Feature: 7, Score: 0.00004\n",
      "Feature: 8, Score: -0.00313\n",
      "Feature: 9, Score: 0.00037\n",
      "Feature: 10, Score: 0.00136\n",
      "Feature: 11, Score: -0.00477\n",
      "Feature: 12, Score: -0.04249\n",
      "Feature: 13, Score: 0.04125\n"
     ]
    },
    {
     "data": {
      "image/png": "[encoded data removed]",
      "text/plain": [
       "<Figure size 432x288 with 1 Axes>"
      ]
     },
     "metadata": {
      "needs_background": "light"
     },
     "output_type": "display_data"
    }
   ],
   "source": [
    "# get importance\n",
    "importance = lasso.coef_\n",
    "# summarize feature importance\n",
    "for i,v in enumerate(importance):\n",
    "\tprint('Feature: %0d, Score: %.5f' % (i,v))\n",
    "# plot feature importance\n",
    "plt.bar([x for x in range(len(importance))], importance)\n",
    "plt.show()"
   ]
  },
  {
   "cell_type": "markdown",
   "metadata": {},
   "source": [
    "### Examining a Model without Goals as an Explanatory Variable"
   ]
  },
  {
   "cell_type": "code",
   "execution_count": 335,
   "metadata": {},
   "outputs": [],
   "source": [
    "#Model without Goals\n",
    "y_n = soccer_df['Home_Win']\n",
    "X_n = soccer_df[['HS','AS','HST','AST','HF','AF','HC','AC','HY','AY','HR','AR']]\n",
    "\n",
    "from sklearn.impute import SimpleImputer\n",
    "Xtrain, Xtest, ytrain, ytest = train_test_split(X_n, y_n, test_size=.30, random_state=100)\n",
    "\n",
    "#Impute missing values with the mean\n",
    "Xtrain = Xtrain.fillna(Xtrain.mean())\n",
    "Xtest = Xtest.fillna(Xtest.mean())"
   ]
  },
  {
   "cell_type": "code",
   "execution_count": 336,
   "metadata": {},
   "outputs": [
    {
     "name": "stdout",
     "output_type": "stream",
     "text": [
      "0.42079149568745594\n",
      "0.7317518248175182\n",
      "0.7302682346959217\n"
     ]
    }
   ],
   "source": [
    "#Fit new Lasso model with updated hyperparameter and data without goals\n",
    "from sklearn.linear_model import LassoCV\n",
    "lscv = LassoCV(n_alphas=100, normalize=True)\n",
    "lscv.fit(Xtrain, ytrain)\n",
    "\n",
    "#lscv.alpha_\n",
    "\n",
    "lasso = Lasso(alpha=lscv.alpha_)\n",
    "lasso.fit(Xtrain,ytrain)\n",
    "yhat_lasso = lasso.predict(Xtest)\n",
    "\n",
    "mse_lass = mean_squared_error(ytest, yhat_lasso)\n",
    "print(np.sqrt(mse_lass))\n",
    "print(accuracy_score(ytest,yhat_lasso.round()))\n",
    "print(f1_score(ytest,yhat_lasso.round(),average='weighted'))"
   ]
  },
  {
   "cell_type": "code",
   "execution_count": 337,
   "metadata": {},
   "outputs": [
    {
     "name": "stdout",
     "output_type": "stream",
     "text": [
      "Feature: 0, Score: -0.01398\n",
      "Feature: 1, Score: 0.00757\n",
      "Feature: 2, Score: 0.08074\n",
      "Feature: 3, Score: -0.07494\n",
      "Feature: 4, Score: -0.00690\n",
      "Feature: 5, Score: -0.00272\n",
      "Feature: 6, Score: -0.01955\n",
      "Feature: 7, Score: 0.00802\n",
      "Feature: 8, Score: -0.02004\n",
      "Feature: 9, Score: -0.00036\n",
      "Feature: 10, Score: -0.13964\n",
      "Feature: 11, Score: 0.09090\n"
     ]
    },
    {
     "data": {
      "image/png": "[encoded data removed]",
      "text/plain": [
       "<Figure size 432x288 with 1 Axes>"
      ]
     },
     "metadata": {
      "needs_background": "light"
     },
     "output_type": "display_data"
    }
   ],
   "source": [
    "# get importance\n",
    "importance = lasso.coef_\n",
    "# summarize feature importance\n",
    "for i,v in enumerate(importance):\n",
    "\tprint('Feature: %0d, Score: %.5f' % (i,v))\n",
    "# plot feature importance\n",
    "plt.bar([x for x in range(len(importance))], importance)\n",
    "plt.show()"
   ]
  },
  {
   "cell_type": "markdown",
   "metadata": {},
   "source": [
    "## Conclusions\n",
    "Based on the results of the regression modeling, it appears that the most important factor for improving a win at home was goals. This is no surprise since it is the single most determining factor for which a result is determined. The next most important feature for improving win likelihood at home was shots on target, with the away team's number of shots on target having a nearly equal effect but in the negative.\n",
    "\n",
    "This means that if a team focuses on accuracy rather than quantity of shots, their overall probability of winning may increase. It may also mean that great defending that keeps an away team from getting their own shots on target would also increase win probability.\n",
    "\n",
    "Lastly, the third most important factor for increasing win likelihood at home for the home team is red cards. When a player receives a red card in any match, they must immediately leave the pitch and they cannot be replaced. This results in the player's team having to play with 10 instead of 11 players on the field for the remainder of the match. Thus, the model shows that a home team receiving a red card will more negatively impact their likelihood of winning than any other factor. Likewise, an away team receiving a red card will improve win likelihood more than any other factor.\n",
    "\n",
    "While controlling the amount of red cards an away team recevies is not in the power of the home team to change, they can exhibit extreme caution for their own team, ensuring that their players remain level-headed and don't commit any offense that would result in them having to leave the pitch due to a red card. Perhaps coaches could do so by encouraging good sportsmanship among their players and pulling players that start to show signs of losing their temper or getting unnecessarily aggressive towards an opposing player.\n"
   ]
  },
  {
   "cell_type": "markdown",
   "metadata": {},
   "source": [
    "### Questions & Improvements for Future Study\n",
    "One question that arises from the results of this analysis is what other factors might be affected by playing at home, negatively or positively? For example, perhaps pass accuracy or number of tackles also increase when a team plays on their home field, how might these affect the likelihood of winning?\n",
    "\n",
    "It should be noted as well that a model that does not include red cards received would perhaps highlight more clearly the differences in variables of somewhat less significance. Obtaining a larger sample size over more years of data would also be an interesting way to see if these factors of red cards and shots on target would still remain significant or if others would overtake them."
   ]
  }
 ],
 "metadata": {
  "kernelspec": {
   "display_name": "Python 3",
   "language": "python",
   "name": "python3"
  },
  "language_info": {
   "codemirror_mode": {
    "name": "ipython",
    "version": 3
   },
   "file_extension": ".py",
   "mimetype": "text/x-python",
   "name": "python",
   "nbconvert_exporter": "python",
   "pygments_lexer": "ipython3",
   "version": "3.8.3"
  }
 },
 "nbformat": 4,
 "nbformat_minor": 4
}
